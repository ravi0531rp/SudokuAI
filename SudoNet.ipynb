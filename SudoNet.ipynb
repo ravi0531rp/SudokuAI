{
  "nbformat": 4,
  "nbformat_minor": 0,
  "metadata": {
    "colab": {
      "name": "SudoNet.ipynb",
      "provenance": [],
      "collapsed_sections": []
    },
    "kernelspec": {
      "name": "python3",
      "display_name": "Python 3"
    },
    "language_info": {
      "name": "python"
    },
    "accelerator": "GPU"
  },
  "cells": [
    {
      "cell_type": "code",
      "metadata": {
        "id": "3gWphl1oZhve"
      },
      "source": [
        "import numpy as np\n",
        "import pandas as pd\n",
        "import tensorflow as tf\n",
        "\n",
        "from tensorflow.keras.models import Model\n",
        "from tensorflow.keras.layers import Conv2D, Dense , Input , BatchNormalization , Flatten , Reshape, Activation\n",
        "from tensorflow.keras.optimizers import Adam, SGD\n",
        "import seaborn as sns\n",
        "import matplotlib.pyplot as plt\n",
        "%matplotlib inline"
      ],
      "execution_count": 1,
      "outputs": []
    },
    {
      "cell_type": "code",
      "metadata": {
        "id": "9J7caQueaO8A"
      },
      "source": [
        "df = pd.read_csv('/content/drive/MyDrive/SudoNet/sudoku.csv')"
      ],
      "execution_count": 2,
      "outputs": []
    },
    {
      "cell_type": "code",
      "metadata": {
        "colab": {
          "base_uri": "https://localhost:8080/",
          "height": 203
        },
        "id": "v54b9OKgaXrP",
        "outputId": "30c486aa-0ebf-4676-cdae-dd250f82b00a"
      },
      "source": [
        "df.head()"
      ],
      "execution_count": 3,
      "outputs": [
        {
          "output_type": "execute_result",
          "data": {
            "text/html": [
              "<div>\n",
              "<style scoped>\n",
              "    .dataframe tbody tr th:only-of-type {\n",
              "        vertical-align: middle;\n",
              "    }\n",
              "\n",
              "    .dataframe tbody tr th {\n",
              "        vertical-align: top;\n",
              "    }\n",
              "\n",
              "    .dataframe thead th {\n",
              "        text-align: right;\n",
              "    }\n",
              "</style>\n",
              "<table border=\"1\" class=\"dataframe\">\n",
              "  <thead>\n",
              "    <tr style=\"text-align: right;\">\n",
              "      <th></th>\n",
              "      <th>quizzes</th>\n",
              "      <th>solutions</th>\n",
              "    </tr>\n",
              "  </thead>\n",
              "  <tbody>\n",
              "    <tr>\n",
              "      <th>0</th>\n",
              "      <td>0043002090050090010700600430060020871900074000...</td>\n",
              "      <td>8643712593258497619712658434361925871986574322...</td>\n",
              "    </tr>\n",
              "    <tr>\n",
              "      <th>1</th>\n",
              "      <td>0401000501070039605200080000000000170009068008...</td>\n",
              "      <td>3461792581875239645296483719658324174729168358...</td>\n",
              "    </tr>\n",
              "    <tr>\n",
              "      <th>2</th>\n",
              "      <td>6001203840084590720000060050002640300700800069...</td>\n",
              "      <td>6951273841384596727248369158512647392739815469...</td>\n",
              "    </tr>\n",
              "    <tr>\n",
              "      <th>3</th>\n",
              "      <td>4972000001004000050000160986203000403009000000...</td>\n",
              "      <td>4972583161864397252537164986293815473759641828...</td>\n",
              "    </tr>\n",
              "    <tr>\n",
              "      <th>4</th>\n",
              "      <td>0059103080094030600275001000300002010008200070...</td>\n",
              "      <td>4659123781894735623275681497386452919548216372...</td>\n",
              "    </tr>\n",
              "  </tbody>\n",
              "</table>\n",
              "</div>"
            ],
            "text/plain": [
              "                                             quizzes                                          solutions\n",
              "0  0043002090050090010700600430060020871900074000...  8643712593258497619712658434361925871986574322...\n",
              "1  0401000501070039605200080000000000170009068008...  3461792581875239645296483719658324174729168358...\n",
              "2  6001203840084590720000060050002640300700800069...  6951273841384596727248369158512647392739815469...\n",
              "3  4972000001004000050000160986203000403009000000...  4972583161864397252537164986293815473759641828...\n",
              "4  0059103080094030600275001000300002010008200070...  4659123781894735623275681497386452919548216372..."
            ]
          },
          "metadata": {},
          "execution_count": 3
        }
      ]
    },
    {
      "cell_type": "code",
      "metadata": {
        "id": "3txgWIFaaaSo"
      },
      "source": [
        "str2np = lambda string : np.array(list(map(int,list(string)))).reshape(9,9,1)\n",
        "str2label = lambda string : np.array(list(map(int,list(string)))).reshape(81,1) - 1"
      ],
      "execution_count": 4,
      "outputs": []
    },
    {
      "cell_type": "code",
      "metadata": {
        "id": "UV18lPGDacSW"
      },
      "source": [
        "X = df.iloc[:,0].values\n",
        "y = df.iloc[:,1].values"
      ],
      "execution_count": 5,
      "outputs": []
    },
    {
      "cell_type": "code",
      "metadata": {
        "colab": {
          "base_uri": "https://localhost:8080/"
        },
        "id": "91WFBB-NafVF",
        "outputId": "c67d5891-7754-4fb1-99c8-5d59ad5c99b0"
      },
      "source": [
        "X.shape"
      ],
      "execution_count": 6,
      "outputs": [
        {
          "output_type": "execute_result",
          "data": {
            "text/plain": [
              "(1000000,)"
            ]
          },
          "metadata": {},
          "execution_count": 6
        }
      ]
    },
    {
      "cell_type": "code",
      "metadata": {
        "colab": {
          "base_uri": "https://localhost:8080/",
          "height": 35
        },
        "id": "TJSsyuroaiZs",
        "outputId": "53e7ea63-3384-40b2-cba7-5e271c1e88d5"
      },
      "source": [
        "X[0]"
      ],
      "execution_count": 7,
      "outputs": [
        {
          "output_type": "execute_result",
          "data": {
            "application/vnd.google.colaboratory.intrinsic+json": {
              "type": "string"
            },
            "text/plain": [
              "'004300209005009001070060043006002087190007400050083000600000105003508690042910300'"
            ]
          },
          "metadata": {},
          "execution_count": 7
        }
      ]
    },
    {
      "cell_type": "code",
      "metadata": {
        "id": "L9i_qGCialzH"
      },
      "source": [
        "features = []"
      ],
      "execution_count": 8,
      "outputs": []
    },
    {
      "cell_type": "code",
      "metadata": {
        "id": "AzDGBNawanrA"
      },
      "source": [
        "for i in range(len(X)):\n",
        "    features.append(str2np(X[i]))"
      ],
      "execution_count": 9,
      "outputs": []
    },
    {
      "cell_type": "code",
      "metadata": {
        "id": "ArUpwf_2apCp"
      },
      "source": [
        "features = np.array(features)"
      ],
      "execution_count": 10,
      "outputs": []
    },
    {
      "cell_type": "code",
      "metadata": {
        "colab": {
          "base_uri": "https://localhost:8080/"
        },
        "id": "akjGywnva_V8",
        "outputId": "d3f673dc-dc14-44e6-a363-9475b35b2f05"
      },
      "source": [
        "features.shape"
      ],
      "execution_count": 11,
      "outputs": [
        {
          "output_type": "execute_result",
          "data": {
            "text/plain": [
              "(1000000, 9, 9, 1)"
            ]
          },
          "metadata": {},
          "execution_count": 11
        }
      ]
    },
    {
      "cell_type": "code",
      "metadata": {
        "id": "NRxFAywubBYw"
      },
      "source": [
        "labels = []"
      ],
      "execution_count": 12,
      "outputs": []
    },
    {
      "cell_type": "code",
      "metadata": {
        "id": "mAg-xxPebEM6"
      },
      "source": [
        "for i in range(len(y)):\n",
        "    labels.append(str2label(y[i]))"
      ],
      "execution_count": 13,
      "outputs": []
    },
    {
      "cell_type": "code",
      "metadata": {
        "id": "zd2PWwlsbF-X"
      },
      "source": [
        "labels = np.array(labels)"
      ],
      "execution_count": 14,
      "outputs": []
    },
    {
      "cell_type": "code",
      "metadata": {
        "colab": {
          "base_uri": "https://localhost:8080/"
        },
        "id": "CtGtge1PbMdl",
        "outputId": "2aeff4cb-9e44-49b8-cb68-e6a8d285022a"
      },
      "source": [
        "labels.shape"
      ],
      "execution_count": 15,
      "outputs": [
        {
          "output_type": "execute_result",
          "data": {
            "text/plain": [
              "(1000000, 81, 1)"
            ]
          },
          "metadata": {},
          "execution_count": 15
        }
      ]
    },
    {
      "cell_type": "code",
      "metadata": {
        "id": "buL5sZVtbN8f"
      },
      "source": [
        "def mormalize_data(data,count):\n",
        "    data = data/count\n",
        "    data -= 0.5\n",
        "    return data"
      ],
      "execution_count": 16,
      "outputs": []
    },
    {
      "cell_type": "code",
      "metadata": {
        "id": "TAs6yNkCbP88"
      },
      "source": [
        "features = mormalize_data(features,9)"
      ],
      "execution_count": 17,
      "outputs": []
    },
    {
      "cell_type": "code",
      "metadata": {
        "id": "C7LxgLxnbUoH"
      },
      "source": [
        "from sklearn.model_selection import train_test_split"
      ],
      "execution_count": 18,
      "outputs": []
    },
    {
      "cell_type": "code",
      "metadata": {
        "id": "WZEqFRW9bWH3"
      },
      "source": [
        "X_train, X_test, y_train, y_test = train_test_split(features, labels, test_size=0.33, random_state=101)"
      ],
      "execution_count": 19,
      "outputs": []
    },
    {
      "cell_type": "code",
      "metadata": {
        "id": "GykAfX1DbgK5"
      },
      "source": [
        "del(labels)\n",
        "del(features)"
      ],
      "execution_count": 20,
      "outputs": []
    },
    {
      "cell_type": "code",
      "metadata": {
        "colab": {
          "base_uri": "https://localhost:8080/"
        },
        "id": "r3bi6FUmbjA9",
        "outputId": "342d9e05-060f-408c-8606-3be52a0d7f06"
      },
      "source": [
        "X_train.shape"
      ],
      "execution_count": 21,
      "outputs": [
        {
          "output_type": "execute_result",
          "data": {
            "text/plain": [
              "(670000, 9, 9, 1)"
            ]
          },
          "metadata": {},
          "execution_count": 21
        }
      ]
    },
    {
      "cell_type": "code",
      "metadata": {
        "colab": {
          "base_uri": "https://localhost:8080/"
        },
        "id": "g5K8EmLabluq",
        "outputId": "a98e1514-c7c2-462c-ecf0-9dad33fe9d31"
      },
      "source": [
        "y_train.shape"
      ],
      "execution_count": 22,
      "outputs": [
        {
          "output_type": "execute_result",
          "data": {
            "text/plain": [
              "(670000, 81, 1)"
            ]
          },
          "metadata": {},
          "execution_count": 22
        }
      ]
    },
    {
      "cell_type": "code",
      "metadata": {
        "id": "KXm3FdJHbnZl"
      },
      "source": [
        "tf.keras.backend.clear_session()\n",
        "\n",
        "x = Input(shape=(9,9,1))\n",
        "\n",
        "out = Conv2D(64, kernel_size=(3,3) ,activation='relu' , padding='same')(x)\n",
        "out = BatchNormalization()(out)\n",
        "out = Conv2D(64, kernel_size=(3,3) ,activation='relu' , padding='same')(out)\n",
        "out = BatchNormalization()(out)\n",
        "out = Conv2D(128, kernel_size=(3,3) ,activation='relu' , padding='same')(out)\n",
        "out = Flatten()(out)\n",
        "\n",
        "out = Dense(729)(out)\n",
        "out = Reshape((-1,9))(out)\n",
        "out = Activation('softmax')(out)"
      ],
      "execution_count": 23,
      "outputs": []
    },
    {
      "cell_type": "code",
      "metadata": {
        "id": "rS0avmvkbvYZ"
      },
      "source": [
        "model = Model(inputs=x, outputs=out)"
      ],
      "execution_count": 24,
      "outputs": []
    },
    {
      "cell_type": "code",
      "metadata": {
        "id": "iyxf_oEBbxmP"
      },
      "source": [
        "model.compile(loss='sparse_categorical_crossentropy', optimizer=Adam(learning_rate=0.001) , metrics=['accuracy'])"
      ],
      "execution_count": 25,
      "outputs": []
    },
    {
      "cell_type": "code",
      "metadata": {
        "id": "KWKWQzYmbzdM"
      },
      "source": [
        "acc_thresh = 0.99\n",
        "class myCallback(tf.keras.callbacks.Callback):\n",
        "    def on_epoch_end(self,epoch,logs={}):\n",
        "        if(logs.get('accuracy') > acc_thresh):\n",
        "            print(\"Stopping training as desired accuracy reached....\")\n",
        "            self.model.stop_training = True"
      ],
      "execution_count": 48,
      "outputs": []
    },
    {
      "cell_type": "code",
      "metadata": {
        "id": "680skLyXE_-f"
      },
      "source": [
        "class ModelSaver(tf.keras.callbacks.Callback):\n",
        "    def on_epoch_end(self,epoch,logs={}):\n",
        "      if epoch%2 == 0:\n",
        "        self.model.save(\"/content/drive/MyDrive/SudoNet/Model_Phase3/model_{}.h5\".format(epoch))"
      ],
      "execution_count": 49,
      "outputs": []
    },
    {
      "cell_type": "code",
      "metadata": {
        "id": "tHuo4TJmb1O2"
      },
      "source": [
        "myCall = myCallback()\n",
        "modelSaver = ModelSaver()"
      ],
      "execution_count": 50,
      "outputs": []
    },
    {
      "cell_type": "markdown",
      "metadata": {
        "id": "fn_tFELqb6RJ"
      },
      "source": [
        "## THE BASE MODEL : AFTER THIS, I WILL DO HYPERPARAM TUNING"
      ]
    },
    {
      "cell_type": "code",
      "metadata": {
        "colab": {
          "base_uri": "https://localhost:8080/"
        },
        "id": "htRu5Qqib3Qb",
        "outputId": "d6c92022-e965-4df4-e113-5fe9c8fe4711"
      },
      "source": [
        "history = model.fit(X_train, y_train, batch_size=128, epochs=50 , validation_data=(X_test,y_test) , callbacks=[myCall])"
      ],
      "execution_count": 28,
      "outputs": [
        {
          "output_type": "stream",
          "name": "stdout",
          "text": [
            "Epoch 1/50\n",
            "5235/5235 [==============================] - 125s 18ms/step - loss: 0.5540 - accuracy: 0.7649 - val_loss: 0.3802 - val_accuracy: 0.8220\n",
            "Epoch 2/50\n",
            "5235/5235 [==============================] - 94s 18ms/step - loss: 0.3612 - accuracy: 0.8308 - val_loss: 0.3546 - val_accuracy: 0.8333\n",
            "Epoch 3/50\n",
            "5235/5235 [==============================] - 94s 18ms/step - loss: 0.3368 - accuracy: 0.8442 - val_loss: 0.3458 - val_accuracy: 0.8385\n",
            "Epoch 4/50\n",
            "5235/5235 [==============================] - 94s 18ms/step - loss: 0.3187 - accuracy: 0.8550 - val_loss: 0.3446 - val_accuracy: 0.8399\n",
            "Epoch 5/50\n",
            "5235/5235 [==============================] - 94s 18ms/step - loss: 0.3062 - accuracy: 0.8624 - val_loss: 0.3484 - val_accuracy: 0.8396\n",
            "Epoch 6/50\n",
            "5235/5235 [==============================] - 93s 18ms/step - loss: 0.2977 - accuracy: 0.8673 - val_loss: 0.3478 - val_accuracy: 0.8399\n",
            "Epoch 7/50\n",
            "5235/5235 [==============================] - 93s 18ms/step - loss: 0.2916 - accuracy: 0.8707 - val_loss: 0.3502 - val_accuracy: 0.8395\n",
            "Epoch 8/50\n",
            "5235/5235 [==============================] - 94s 18ms/step - loss: 0.2869 - accuracy: 0.8733 - val_loss: 0.3529 - val_accuracy: 0.8395\n",
            "Epoch 9/50\n",
            "5235/5235 [==============================] - 94s 18ms/step - loss: 0.2832 - accuracy: 0.8754 - val_loss: 0.3543 - val_accuracy: 0.8391\n",
            "Epoch 10/50\n",
            "5235/5235 [==============================] - 94s 18ms/step - loss: 0.2800 - accuracy: 0.8771 - val_loss: 0.3567 - val_accuracy: 0.8390\n",
            "Epoch 11/50\n",
            "5235/5235 [==============================] - 93s 18ms/step - loss: 0.2773 - accuracy: 0.8785 - val_loss: 0.3527 - val_accuracy: 0.8399\n",
            "Epoch 12/50\n",
            "5235/5235 [==============================] - 93s 18ms/step - loss: 0.2750 - accuracy: 0.8798 - val_loss: 0.3549 - val_accuracy: 0.8400\n",
            "Epoch 13/50\n",
            "5235/5235 [==============================] - 93s 18ms/step - loss: 0.2730 - accuracy: 0.8809 - val_loss: 0.3555 - val_accuracy: 0.8398\n",
            "Epoch 14/50\n",
            "5235/5235 [==============================] - 94s 18ms/step - loss: 0.2712 - accuracy: 0.8818 - val_loss: 0.3589 - val_accuracy: 0.8391\n",
            "Epoch 15/50\n",
            "5235/5235 [==============================] - 94s 18ms/step - loss: 0.2697 - accuracy: 0.8827 - val_loss: 0.3595 - val_accuracy: 0.8393\n",
            "Epoch 16/50\n",
            "5235/5235 [==============================] - 93s 18ms/step - loss: 0.2682 - accuracy: 0.8835 - val_loss: 0.3590 - val_accuracy: 0.8395\n",
            "Epoch 17/50\n",
            "5235/5235 [==============================] - 94s 18ms/step - loss: 0.2669 - accuracy: 0.8842 - val_loss: 0.3574 - val_accuracy: 0.8399\n",
            "Epoch 18/50\n",
            "5235/5235 [==============================] - 94s 18ms/step - loss: 0.2657 - accuracy: 0.8848 - val_loss: 0.3628 - val_accuracy: 0.8392\n",
            "Epoch 19/50\n",
            "5235/5235 [==============================] - 93s 18ms/step - loss: 0.2646 - accuracy: 0.8854 - val_loss: 0.3599 - val_accuracy: 0.8394\n",
            "Epoch 20/50\n",
            "5235/5235 [==============================] - 93s 18ms/step - loss: 0.2635 - accuracy: 0.8859 - val_loss: 0.3630 - val_accuracy: 0.8392\n",
            "Epoch 21/50\n",
            "5235/5235 [==============================] - 93s 18ms/step - loss: 0.2626 - accuracy: 0.8865 - val_loss: 0.3647 - val_accuracy: 0.8391\n",
            "Epoch 22/50\n",
            "5235/5235 [==============================] - 94s 18ms/step - loss: 0.2617 - accuracy: 0.8869 - val_loss: 0.3664 - val_accuracy: 0.8390\n",
            "Epoch 23/50\n",
            "5235/5235 [==============================] - 93s 18ms/step - loss: 0.2608 - accuracy: 0.8874 - val_loss: 0.3646 - val_accuracy: 0.8392\n",
            "Epoch 24/50\n",
            "5235/5235 [==============================] - 93s 18ms/step - loss: 0.2600 - accuracy: 0.8878 - val_loss: 0.3643 - val_accuracy: 0.8398\n",
            "Epoch 25/50\n",
            "5235/5235 [==============================] - 93s 18ms/step - loss: 0.2593 - accuracy: 0.8882 - val_loss: 0.3672 - val_accuracy: 0.8391\n",
            "Epoch 26/50\n",
            "5235/5235 [==============================] - 93s 18ms/step - loss: 0.2586 - accuracy: 0.8886 - val_loss: 0.3688 - val_accuracy: 0.8387\n",
            "Epoch 27/50\n",
            "5235/5235 [==============================] - 94s 18ms/step - loss: 0.2579 - accuracy: 0.8889 - val_loss: 0.3694 - val_accuracy: 0.8395\n",
            "Epoch 28/50\n",
            "5235/5235 [==============================] - 93s 18ms/step - loss: 0.2572 - accuracy: 0.8892 - val_loss: 0.3719 - val_accuracy: 0.8389\n",
            "Epoch 29/50\n",
            "5235/5235 [==============================] - 93s 18ms/step - loss: 0.2566 - accuracy: 0.8896 - val_loss: 0.3684 - val_accuracy: 0.8395\n",
            "Epoch 30/50\n",
            "5235/5235 [==============================] - 93s 18ms/step - loss: 0.2560 - accuracy: 0.8899 - val_loss: 0.3676 - val_accuracy: 0.8395\n",
            "Epoch 31/50\n",
            "5235/5235 [==============================] - 93s 18ms/step - loss: 0.2555 - accuracy: 0.8901 - val_loss: 0.3702 - val_accuracy: 0.8392\n",
            "Epoch 32/50\n",
            "5235/5235 [==============================] - 93s 18ms/step - loss: 0.2550 - accuracy: 0.8904 - val_loss: 0.3702 - val_accuracy: 0.8389\n",
            "Epoch 33/50\n",
            "5235/5235 [==============================] - 93s 18ms/step - loss: 0.2544 - accuracy: 0.8907 - val_loss: 0.3711 - val_accuracy: 0.8393\n",
            "Epoch 34/50\n",
            "5235/5235 [==============================] - 93s 18ms/step - loss: 0.2539 - accuracy: 0.8910 - val_loss: 0.3714 - val_accuracy: 0.8394\n",
            "Epoch 35/50\n",
            "5235/5235 [==============================] - 94s 18ms/step - loss: 0.2535 - accuracy: 0.8912 - val_loss: 0.3759 - val_accuracy: 0.8392\n",
            "Epoch 36/50\n",
            "5235/5235 [==============================] - 94s 18ms/step - loss: 0.2530 - accuracy: 0.8914 - val_loss: 0.3739 - val_accuracy: 0.8391\n",
            "Epoch 37/50\n",
            "5235/5235 [==============================] - 94s 18ms/step - loss: 0.2526 - accuracy: 0.8917 - val_loss: 0.3720 - val_accuracy: 0.8392\n",
            "Epoch 38/50\n",
            "5235/5235 [==============================] - 94s 18ms/step - loss: 0.2522 - accuracy: 0.8919 - val_loss: 0.3705 - val_accuracy: 0.8396\n",
            "Epoch 39/50\n",
            "5235/5235 [==============================] - 94s 18ms/step - loss: 0.2518 - accuracy: 0.8921 - val_loss: 0.3736 - val_accuracy: 0.8392\n",
            "Epoch 40/50\n",
            "5235/5235 [==============================] - 94s 18ms/step - loss: 0.2514 - accuracy: 0.8923 - val_loss: 0.3680 - val_accuracy: 0.8394\n",
            "Epoch 41/50\n",
            "5235/5235 [==============================] - 94s 18ms/step - loss: 0.2510 - accuracy: 0.8925 - val_loss: 0.3722 - val_accuracy: 0.8397\n",
            "Epoch 42/50\n",
            "5235/5235 [==============================] - 94s 18ms/step - loss: 0.2506 - accuracy: 0.8927 - val_loss: 0.3693 - val_accuracy: 0.8397\n",
            "Epoch 43/50\n",
            "5235/5235 [==============================] - 95s 18ms/step - loss: 0.2503 - accuracy: 0.8929 - val_loss: 0.3755 - val_accuracy: 0.8390\n",
            "Epoch 44/50\n",
            "5235/5235 [==============================] - 94s 18ms/step - loss: 0.2499 - accuracy: 0.8930 - val_loss: 0.3777 - val_accuracy: 0.8387\n",
            "Epoch 45/50\n",
            "5235/5235 [==============================] - 94s 18ms/step - loss: 0.2496 - accuracy: 0.8932 - val_loss: 0.3805 - val_accuracy: 0.8386\n",
            "Epoch 46/50\n",
            "5235/5235 [==============================] - 93s 18ms/step - loss: 0.2493 - accuracy: 0.8934 - val_loss: 0.3722 - val_accuracy: 0.8397\n",
            "Epoch 47/50\n",
            "5235/5235 [==============================] - 94s 18ms/step - loss: 0.2489 - accuracy: 0.8936 - val_loss: 0.3744 - val_accuracy: 0.8392\n",
            "Epoch 48/50\n",
            "5235/5235 [==============================] - 94s 18ms/step - loss: 0.2486 - accuracy: 0.8937 - val_loss: 0.3809 - val_accuracy: 0.8389\n",
            "Epoch 49/50\n",
            "5235/5235 [==============================] - 93s 18ms/step - loss: 0.2483 - accuracy: 0.8939 - val_loss: 0.3774 - val_accuracy: 0.8393\n",
            "Epoch 50/50\n",
            "5235/5235 [==============================] - 94s 18ms/step - loss: 0.2481 - accuracy: 0.8940 - val_loss: 0.3766 - val_accuracy: 0.8390\n"
          ]
        }
      ]
    },
    {
      "cell_type": "code",
      "metadata": {
        "colab": {
          "base_uri": "https://localhost:8080/",
          "height": 286
        },
        "id": "IWBemuFWcNi5",
        "outputId": "d32f6845-6b12-4fb5-a8b1-977ab23d4bf3"
      },
      "source": [
        "plt.plot(history.history['accuracy'] , color='green')\n",
        "plt.plot(history.history['val_accuracy'] , color='blue')\n"
      ],
      "execution_count": 30,
      "outputs": [
        {
          "output_type": "execute_result",
          "data": {
            "text/plain": [
              "[<matplotlib.lines.Line2D at 0x7f7246507590>]"
            ]
          },
          "metadata": {},
          "execution_count": 30
        },
        {
          "output_type": "display_data",
          "data": {
            "image/png": "[encoded data removed]",
            "text/plain": [
              "<Figure size 432x288 with 1 Axes>"
            ]
          },
          "metadata": {
            "needs_background": "light"
          }
        }
      ]
    },
    {
      "cell_type": "code",
      "metadata": {
        "colab": {
          "base_uri": "https://localhost:8080/",
          "height": 282
        },
        "id": "hbWTqJVLck70",
        "outputId": "8351d069-22b5-4667-df5f-7fb8cd73311a"
      },
      "source": [
        "plt.plot(history.history['loss'] , color='green')\n",
        "plt.plot(history.history['val_loss'] , color='blue')"
      ],
      "execution_count": 31,
      "outputs": [
        {
          "output_type": "execute_result",
          "data": {
            "text/plain": [
              "[<matplotlib.lines.Line2D at 0x7f724ad0d650>]"
            ]
          },
          "metadata": {},
          "execution_count": 31
        },
        {
          "output_type": "display_data",
          "data": {
            "image/png": "[encoded data removed]",
            "text/plain": [
              "<Figure size 432x288 with 1 Axes>"
            ]
          },
          "metadata": {
            "needs_background": "light"
          }
        }
      ]
    },
    {
      "cell_type": "code",
      "metadata": {
        "id": "a9AYz2FQclEO"
      },
      "source": [
        "model.save('/content/drive/MyDrive/SudoNet/model_64_64_128--89_83.h5')"
      ],
      "execution_count": 32,
      "outputs": []
    },
    {
      "cell_type": "code",
      "metadata": {
        "colab": {
          "base_uri": "https://localhost:8080/"
        },
        "id": "vIu5tlqaclLv",
        "outputId": "db8d516b-1b2b-427b-bb49-b8d6720fdfdd"
      },
      "source": [
        "tf.keras.backend.clear_session()\n",
        "\n",
        "x = Input(shape=(9,9,1))\n",
        "\n",
        "out = Conv2D(64, kernel_size=(3,3) ,activation='relu' , padding='same')(x)\n",
        "out = BatchNormalization()(out)\n",
        "out = Conv2D(64, kernel_size=(3,3) ,activation='relu' , padding='same')(out)\n",
        "out = BatchNormalization()(out)\n",
        "\n",
        "out = Conv2D(128, kernel_size=(3,3) ,activation='relu' , padding='same')(out)\n",
        "out = BatchNormalization()(out)\n",
        "out = Conv2D(128, kernel_size=(3,3) ,activation='relu' , padding='same')(out)\n",
        "out = BatchNormalization()(out)\n",
        "\n",
        "out = Conv2D(256, kernel_size=(3,3) ,activation='relu' , padding='same')(out)\n",
        "out = BatchNormalization()(out)\n",
        "out = Conv2D(256, kernel_size=(3,3) ,activation='relu' , padding='same')(out)\n",
        "out = BatchNormalization()(out)\n",
        "\n",
        "out = Conv2D(512, kernel_size=(3,3) ,activation='relu' , padding='same')(out)\n",
        "out = BatchNormalization()(out)\n",
        "out = Conv2D(512, kernel_size=(3,3) ,activation='relu' , padding='same')(out)\n",
        "out = BatchNormalization()(out)\n",
        "\n",
        "\n",
        "out = Flatten()(out)\n",
        "out = Dense(729)(out)\n",
        "out = Reshape((-1,9))(out)\n",
        "out = Activation('softmax')(out)\n",
        "\n",
        "model = Model(inputs=x, outputs=out)\n",
        "model.compile(loss='sparse_categorical_crossentropy', optimizer=Adam(learning_rate=0.001) , metrics=['accuracy'])\n",
        "\n",
        "history = model.fit(X_train, y_train, batch_size=256, epochs=20 , validation_data=(X_test,y_test) , callbacks=[myCall,modelSaver])\n"
      ],
      "execution_count": 51,
      "outputs": [
        {
          "output_type": "stream",
          "name": "stdout",
          "text": [
            "Epoch 1/20\n",
            "   6/2618 [..............................] - ETA: 9:53 - loss: 3.6018 - accuracy: 0.1205WARNING:tensorflow:Callback method `on_train_batch_end` is slow compared to the batch time (batch time: 0.0810s vs `on_train_batch_end` time: 0.1395s). Check your callbacks.\n",
            "2618/2618 [==============================] - 698s 265ms/step - loss: 0.7233 - accuracy: 0.7527 - val_loss: 0.3800 - val_accuracy: 0.8352\n",
            "Epoch 2/20\n",
            "2618/2618 [==============================] - 694s 265ms/step - loss: 0.3119 - accuracy: 0.8679 - val_loss: 0.2697 - val_accuracy: 0.8880\n",
            "Epoch 3/20\n",
            "2618/2618 [==============================] - 693s 265ms/step - loss: 0.2134 - accuracy: 0.9132 - val_loss: 0.2018 - val_accuracy: 0.9192\n",
            "Epoch 4/20\n",
            "2618/2618 [==============================] - 692s 264ms/step - loss: 0.1460 - accuracy: 0.9424 - val_loss: 0.1639 - val_accuracy: 0.9359\n",
            "Epoch 5/20\n",
            "2618/2618 [==============================] - 690s 263ms/step - loss: 0.0980 - accuracy: 0.9622 - val_loss: 0.1531 - val_accuracy: 0.9421\n",
            "Epoch 6/20\n",
            "2618/2618 [==============================] - 689s 263ms/step - loss: 0.0646 - accuracy: 0.9754 - val_loss: 0.1653 - val_accuracy: 0.9432\n",
            "Epoch 7/20\n",
            "2618/2618 [==============================] - 689s 263ms/step - loss: 0.0432 - accuracy: 0.9837 - val_loss: 0.1865 - val_accuracy: 0.9431\n",
            "Epoch 8/20\n",
            "2618/2618 [==============================] - 690s 263ms/step - loss: 0.0313 - accuracy: 0.9883 - val_loss: 0.2016 - val_accuracy: 0.9439\n",
            "Epoch 9/20\n",
            "2618/2618 [==============================] - 690s 264ms/step - loss: 0.0244 - accuracy: 0.9909 - val_loss: 0.2178 - val_accuracy: 0.9452\n",
            "Stopping training as desired accuracy reached....\n"
          ]
        }
      ]
    },
    {
      "cell_type": "code",
      "metadata": {
        "id": "wu_WGf1IclQ-"
      },
      "source": [
        "strn = '''\n",
        "Epoch 1/20\n",
        "   6/2618 [..............................] - ETA: 9:53 - loss: 3.6018 - accuracy: 0.1205WARNING:tensorflow:Callback method `on_train_batch_end` is slow compared to the batch time (batch time: 0.0810s vs `on_train_batch_end` time: 0.1395s). Check your callbacks.\n",
        "2618/2618 [==============================] - 698s 265ms/step - loss: 0.7233 - accuracy: 0.7527 - val_loss: 0.3800 - val_accuracy: 0.8352\n",
        "Epoch 2/20\n",
        "2618/2618 [==============================] - 694s 265ms/step - loss: 0.3119 - accuracy: 0.8679 - val_loss: 0.2697 - val_accuracy: 0.8880\n",
        "Epoch 3/20\n",
        "2618/2618 [==============================] - 693s 265ms/step - loss: 0.2134 - accuracy: 0.9132 - val_loss: 0.2018 - val_accuracy: 0.9192\n",
        "Epoch 4/20\n",
        "2618/2618 [==============================] - 692s 264ms/step - loss: 0.1460 - accuracy: 0.9424 - val_loss: 0.1639 - val_accuracy: 0.9359\n",
        "Epoch 5/20\n",
        "2618/2618 [==============================] - 690s 263ms/step - loss: 0.0980 - accuracy: 0.9622 - val_loss: 0.1531 - val_accuracy: 0.9421\n",
        "Epoch 6/20\n",
        "2618/2618 [==============================] - 689s 263ms/step - loss: 0.0646 - accuracy: 0.9754 - val_loss: 0.1653 - val_accuracy: 0.9432\n",
        "Epoch 7/20\n",
        "2618/2618 [==============================] - 689s 263ms/step - loss: 0.0432 - accuracy: 0.9837 - val_loss: 0.1865 - val_accuracy: 0.9431\n",
        "Epoch 8/20\n",
        "2618/2618 [==============================] - 690s 263ms/step - loss: 0.0313 - accuracy: 0.9883 - val_loss: 0.2016 - val_accuracy: 0.9439\n",
        "Epoch 9/20\n",
        "2618/2618 [==============================] - 690s 264ms/step - loss: 0.0244 - accuracy: 0.9909 - val_loss: 0.2178 - val_accuracy: 0.9452\n",
        "Stopping training as desired accuracy reached....\n",
        "'''\n",
        "\n",
        "with open(\"/content/drive/MyDrive/SudoNet/Model_Phase3/train_logs.txt\",'w') as fileW:\n",
        "  fileW.write(strn)"
      ],
      "execution_count": 52,
      "outputs": []
    },
    {
      "cell_type": "code",
      "metadata": {
        "id": "S_cqZ5txclqr"
      },
      "source": [
        "model.save(\"/content/drive/MyDrive/SudoNet/Model_Phase2/model_5.h5\")"
      ],
      "execution_count": 43,
      "outputs": []
    },
    {
      "cell_type": "code",
      "metadata": {
        "colab": {
          "base_uri": "https://localhost:8080/"
        },
        "id": "wYsXKTdIcl8k",
        "outputId": "03372391-90dc-4f65-ab86-c266ead68a6a"
      },
      "source": [
        "model.summary()"
      ],
      "execution_count": 53,
      "outputs": [
        {
          "output_type": "stream",
          "name": "stdout",
          "text": [
            "Model: \"model\"\n",
            "_________________________________________________________________\n",
            "Layer (type)                 Output Shape              Param #   \n",
            "=================================================================\n",
            "input_1 (InputLayer)         [(None, 9, 9, 1)]         0         \n",
            "_________________________________________________________________\n",
            "conv2d (Conv2D)              (None, 9, 9, 64)          640       \n",
            "_________________________________________________________________\n",
            "batch_normalization (BatchNo (None, 9, 9, 64)          256       \n",
            "_________________________________________________________________\n",
            "conv2d_1 (Conv2D)            (None, 9, 9, 64)          36928     \n",
            "_________________________________________________________________\n",
            "batch_normalization_1 (Batch (None, 9, 9, 64)          256       \n",
            "_________________________________________________________________\n",
            "conv2d_2 (Conv2D)            (None, 9, 9, 128)         73856     \n",
            "_________________________________________________________________\n",
            "batch_normalization_2 (Batch (None, 9, 9, 128)         512       \n",
            "_________________________________________________________________\n",
            "conv2d_3 (Conv2D)            (None, 9, 9, 128)         147584    \n",
            "_________________________________________________________________\n",
            "batch_normalization_3 (Batch (None, 9, 9, 128)         512       \n",
            "_________________________________________________________________\n",
            "conv2d_4 (Conv2D)            (None, 9, 9, 256)         295168    \n",
            "_________________________________________________________________\n",
            "batch_normalization_4 (Batch (None, 9, 9, 256)         1024      \n",
            "_________________________________________________________________\n",
            "conv2d_5 (Conv2D)            (None, 9, 9, 256)         590080    \n",
            "_________________________________________________________________\n",
            "batch_normalization_5 (Batch (None, 9, 9, 256)         1024      \n",
            "_________________________________________________________________\n",
            "conv2d_6 (Conv2D)            (None, 9, 9, 512)         1180160   \n",
            "_________________________________________________________________\n",
            "batch_normalization_6 (Batch (None, 9, 9, 512)         2048      \n",
            "_________________________________________________________________\n",
            "conv2d_7 (Conv2D)            (None, 9, 9, 512)         2359808   \n",
            "_________________________________________________________________\n",
            "batch_normalization_7 (Batch (None, 9, 9, 512)         2048      \n",
            "_________________________________________________________________\n",
            "flatten (Flatten)            (None, 41472)             0         \n",
            "_________________________________________________________________\n",
            "dense (Dense)                (None, 729)               30233817  \n",
            "_________________________________________________________________\n",
            "reshape (Reshape)            (None, 81, 9)             0         \n",
            "_________________________________________________________________\n",
            "activation (Activation)      (None, 81, 9)             0         \n",
            "=================================================================\n",
            "Total params: 34,925,721\n",
            "Trainable params: 34,921,881\n",
            "Non-trainable params: 3,840\n",
            "_________________________________________________________________\n"
          ]
        }
      ]
    },
    {
      "cell_type": "code",
      "metadata": {
        "id": "mV6S8Nu4cmK6"
      },
      "source": [
        "strn = '''\n",
        "Model: \"model\"\n",
        "_________________________________________________________________\n",
        "Layer (type)                 Output Shape              Param #   \n",
        "=================================================================\n",
        "input_1 (InputLayer)         [(None, 9, 9, 1)]         0         \n",
        "_________________________________________________________________\n",
        "conv2d (Conv2D)              (None, 9, 9, 64)          640       \n",
        "_________________________________________________________________\n",
        "batch_normalization (BatchNo (None, 9, 9, 64)          256       \n",
        "_________________________________________________________________\n",
        "conv2d_1 (Conv2D)            (None, 9, 9, 64)          36928     \n",
        "_________________________________________________________________\n",
        "batch_normalization_1 (Batch (None, 9, 9, 64)          256       \n",
        "_________________________________________________________________\n",
        "conv2d_2 (Conv2D)            (None, 9, 9, 128)         73856     \n",
        "_________________________________________________________________\n",
        "batch_normalization_2 (Batch (None, 9, 9, 128)         512       \n",
        "_________________________________________________________________\n",
        "conv2d_3 (Conv2D)            (None, 9, 9, 128)         147584    \n",
        "_________________________________________________________________\n",
        "batch_normalization_3 (Batch (None, 9, 9, 128)         512       \n",
        "_________________________________________________________________\n",
        "conv2d_4 (Conv2D)            (None, 9, 9, 256)         295168    \n",
        "_________________________________________________________________\n",
        "batch_normalization_4 (Batch (None, 9, 9, 256)         1024      \n",
        "_________________________________________________________________\n",
        "conv2d_5 (Conv2D)            (None, 9, 9, 256)         590080    \n",
        "_________________________________________________________________\n",
        "batch_normalization_5 (Batch (None, 9, 9, 256)         1024      \n",
        "_________________________________________________________________\n",
        "conv2d_6 (Conv2D)            (None, 9, 9, 512)         1180160   \n",
        "_________________________________________________________________\n",
        "batch_normalization_6 (Batch (None, 9, 9, 512)         2048      \n",
        "_________________________________________________________________\n",
        "conv2d_7 (Conv2D)            (None, 9, 9, 512)         2359808   \n",
        "_________________________________________________________________\n",
        "batch_normalization_7 (Batch (None, 9, 9, 512)         2048      \n",
        "_________________________________________________________________\n",
        "flatten (Flatten)            (None, 41472)             0         \n",
        "_________________________________________________________________\n",
        "dense (Dense)                (None, 729)               30233817  \n",
        "_________________________________________________________________\n",
        "reshape (Reshape)            (None, 81, 9)             0         \n",
        "_________________________________________________________________\n",
        "activation (Activation)      (None, 81, 9)             0         \n",
        "=================================================================\n",
        "Total params: 34,925,721\n",
        "Trainable params: 34,921,881\n",
        "Non-trainable params: 3,840\n",
        "\n",
        "'''\n",
        "with open(\"/content/drive/MyDrive/SudoNet/Model_Phase3/model_summary.txt\",'w') as fileW:\n",
        "  fileW.write(strn)"
      ],
      "execution_count": 54,
      "outputs": []
    },
    {
      "cell_type": "code",
      "metadata": {
        "colab": {
          "base_uri": "https://localhost:8080/"
        },
        "id": "vsCXuhlscmWZ",
        "outputId": "cfbb9e69-e0b1-4650-f181-53b26e927c8b"
      },
      "source": [
        "X_test[0].shape"
      ],
      "execution_count": 56,
      "outputs": [
        {
          "output_type": "execute_result",
          "data": {
            "text/plain": [
              "(9, 9, 1)"
            ]
          },
          "metadata": {},
          "execution_count": 56
        }
      ]
    },
    {
      "cell_type": "code",
      "metadata": {
        "id": "iy8BHiZOcmg5"
      },
      "source": [
        "sample_out = model.predict(X_train[0].reshape(1,9,9,1)).squeeze()"
      ],
      "execution_count": 82,
      "outputs": []
    },
    {
      "cell_type": "code",
      "metadata": {
        "colab": {
          "base_uri": "https://localhost:8080/"
        },
        "id": "G_l3dE_mcmq4",
        "outputId": "1bd36cab-0b11-462e-fdfa-c3546a204831"
      },
      "source": [
        "sample_out.shape"
      ],
      "execution_count": 83,
      "outputs": [
        {
          "output_type": "execute_result",
          "data": {
            "text/plain": [
              "(81, 9)"
            ]
          },
          "metadata": {},
          "execution_count": 83
        }
      ]
    },
    {
      "cell_type": "code",
      "metadata": {
        "id": "myCKgH5Bcm1w"
      },
      "source": [
        "outmatrix = []\n",
        "for row in sample_out:\n",
        "  outmatrix.append(np.argmax(row))"
      ],
      "execution_count": 84,
      "outputs": []
    },
    {
      "cell_type": "code",
      "metadata": {
        "id": "VKmeC2pccm-x"
      },
      "source": [
        "outmatrix = np.array(outmatrix)"
      ],
      "execution_count": 85,
      "outputs": []
    },
    {
      "cell_type": "code",
      "metadata": {
        "id": "6YS-eLyScnGt"
      },
      "source": [
        "outmatrix = outmatrix.reshape(9,9)"
      ],
      "execution_count": 86,
      "outputs": []
    },
    {
      "cell_type": "code",
      "metadata": {
        "colab": {
          "base_uri": "https://localhost:8080/"
        },
        "id": "K_CdVjMrcnOI",
        "outputId": "8aff7575-9f57-4db5-f98d-b1eba7f35fb7"
      },
      "source": [
        "outmatrix"
      ],
      "execution_count": 87,
      "outputs": [
        {
          "output_type": "execute_result",
          "data": {
            "text/plain": [
              "array([[2, 3, 1, 7, 4, 0, 8, 5, 6],\n",
              "       [0, 8, 6, 5, 2, 1, 3, 4, 7],\n",
              "       [4, 5, 7, 6, 3, 8, 1, 0, 2],\n",
              "       [1, 4, 3, 8, 0, 2, 6, 7, 5],\n",
              "       [7, 0, 8, 4, 5, 6, 2, 3, 1],\n",
              "       [6, 2, 5, 1, 7, 3, 0, 8, 4],\n",
              "       [5, 1, 0, 2, 8, 7, 4, 6, 3],\n",
              "       [3, 6, 4, 0, 1, 5, 7, 2, 8],\n",
              "       [8, 7, 2, 3, 6, 4, 5, 1, 0]])"
            ]
          },
          "metadata": {},
          "execution_count": 87
        }
      ]
    },
    {
      "cell_type": "code",
      "metadata": {
        "colab": {
          "base_uri": "https://localhost:8080/"
        },
        "id": "caCn1tO2cnTu",
        "outputId": "47840ba2-2320-48be-b1e1-81eab1e191c9"
      },
      "source": [
        "y_train[0].reshape(9,9)"
      ],
      "execution_count": 79,
      "outputs": [
        {
          "output_type": "execute_result",
          "data": {
            "text/plain": [
              "array([[2, 3, 1, 7, 4, 0, 8, 5, 6],\n",
              "       [0, 8, 6, 5, 2, 1, 3, 4, 7],\n",
              "       [4, 5, 7, 6, 3, 8, 1, 0, 2],\n",
              "       [1, 4, 3, 8, 0, 2, 6, 7, 5],\n",
              "       [7, 0, 8, 4, 5, 6, 2, 3, 1],\n",
              "       [6, 2, 5, 1, 7, 3, 0, 8, 4],\n",
              "       [5, 1, 0, 2, 8, 7, 4, 6, 3],\n",
              "       [3, 6, 4, 0, 1, 5, 7, 2, 8],\n",
              "       [8, 7, 2, 3, 6, 4, 5, 1, 0]])"
            ]
          },
          "metadata": {},
          "execution_count": 79
        }
      ]
    },
    {
      "cell_type": "code",
      "metadata": {
        "colab": {
          "base_uri": "https://localhost:8080/"
        },
        "id": "yAFclbj5cnZd",
        "outputId": "4215ae1b-8b84-4dd2-c2ce-369b1b776f9c"
      },
      "source": [
        "# N is the size of the 2D matrix N*N\n",
        "N = 9\n",
        "\n",
        "# A utility function to print grid\n",
        "def printing(arr):\n",
        "\tfor i in range(N):\n",
        "\t\tfor j in range(N):\n",
        "\t\t\tprint(arr[i][j], end = \" \")\n",
        "\t\tprint()\n",
        "\n",
        "# Checks whether it will be\n",
        "# legal to assign num to the\n",
        "# given row, col\n",
        "def isSafe(grid, row, col, num):\n",
        "\n",
        "\t# Check if we find the same num\n",
        "\t# in the similar row , we\n",
        "\t# return false\n",
        "\tfor x in range(9):\n",
        "\t\tif grid[row][x] == num:\n",
        "\t\t\treturn False\n",
        "\n",
        "\t# Check if we find the same num in\n",
        "\t# the similar column , we\n",
        "\t# return false\n",
        "\tfor x in range(9):\n",
        "\t\tif grid[x][col] == num:\n",
        "\t\t\treturn False\n",
        "\n",
        "\t# Check if we find the same num in\n",
        "\t# the particular 3*3 matrix,\n",
        "\t# we return false\n",
        "\tstartRow = row - row % 3\n",
        "\tstartCol = col - col % 3\n",
        "\tfor i in range(3):\n",
        "\t\tfor j in range(3):\n",
        "\t\t\tif grid[i + startRow][j + startCol] == num:\n",
        "\t\t\t\treturn False\n",
        "\treturn True\n",
        "\n",
        "# Takes a partially filled-in grid and attempts\n",
        "# to assign values to all unassigned locations in\n",
        "# such a way to meet the requirements for\n",
        "# Sudoku solution (non-duplication across rows,\n",
        "# columns, and boxes) */\n",
        "def solveSuduko(grid, row, col):\n",
        "\n",
        "\t# Check if we have reached the 8th\n",
        "\t# row and 9th column (0\n",
        "\t# indexed matrix) , we are\n",
        "\t# returning true to avoid\n",
        "\t# further backtracking\n",
        "\tif (row == N - 1 and col == N):\n",
        "\t\treturn True\n",
        "\t\n",
        "\t# Check if column value becomes 9 ,\n",
        "\t# we move to next row and\n",
        "\t# column start from 0\n",
        "\tif col == N:\n",
        "\t\trow += 1\n",
        "\t\tcol = 0\n",
        "\n",
        "\t# Check if the current position of\n",
        "\t# the grid already contains\n",
        "\t# value >0, we iterate for next column\n",
        "\tif grid[row][col] > 0:\n",
        "\t\treturn solveSuduko(grid, row, col + 1)\n",
        "\tfor num in range(1, N + 1, 1):\n",
        "\t\n",
        "\t\t# Check if it is safe to place\n",
        "\t\t# the num (1-9) in the\n",
        "\t\t# given row ,col ->we\n",
        "\t\t# move to next column\n",
        "\t\tif isSafe(grid, row, col, num):\n",
        "\t\t\n",
        "\t\t\t# Assigning the num in\n",
        "\t\t\t# the current (row,col)\n",
        "\t\t\t# position of the grid\n",
        "\t\t\t# and assuming our assigned\n",
        "\t\t\t# num in the position\n",
        "\t\t\t# is correct\n",
        "\t\t\tgrid[row][col] = num\n",
        "\n",
        "\t\t\t# Checking for next possibility with next\n",
        "\t\t\t# column\n",
        "\t\t\tif solveSuduko(grid, row, col + 1):\n",
        "\t\t\t\treturn True\n",
        "\n",
        "\t\t# Removing the assigned num ,\n",
        "\t\t# since our assumption\n",
        "\t\t# was wrong , and we go for\n",
        "\t\t# next assumption with\n",
        "\t\t# diff num value\n",
        "\t\tgrid[row][col] = 0\n",
        "\treturn False\n",
        "\n",
        "# Driver Code\n",
        "\n",
        "# 0 means unassigned cells\n",
        "grid = [[2, 3, 1, 7, 4, 0, 8, 5, 6],\n",
        "       [0, 8, 6, 5, 2, 1, 3, 4, 7],\n",
        "       [4, 5, 7, 6, 3, 8, 1, 0, 2],\n",
        "       [1, 4, 3, 8, 0, 2, 6, 7, 5],\n",
        "       [7, 0, 8, 4, 5, 6, 2, 3, 1],\n",
        "       [6, 2, 5, 1, 7, 3, 0, 8, 4],\n",
        "       [5, 1, 0, 2, 8, 7, 4, 6, 3],\n",
        "       [3, 6, 4, 0, 1, 5, 7, 2, 8],\n",
        "       [8, 7, 2, 3, 6, 4, 5, 1, 0]]\n",
        "\n",
        "if (solveSuduko(grid, 0, 0)):\n",
        "\tprinting(grid)\n",
        "else:\n",
        "\tprint(\"no solution exists \")\n",
        "\n"
      ],
      "execution_count": 80,
      "outputs": [
        {
          "output_type": "stream",
          "name": "stdout",
          "text": [
            "2 3 1 7 4 9 8 5 6 \n",
            "9 8 6 5 2 1 3 4 7 \n",
            "4 5 7 6 3 8 1 9 2 \n",
            "1 4 3 8 9 2 6 7 5 \n",
            "7 9 8 4 5 6 2 3 1 \n",
            "6 2 5 1 7 3 9 8 4 \n",
            "5 1 9 2 8 7 4 6 3 \n",
            "3 6 4 9 1 5 7 2 8 \n",
            "8 7 2 3 6 4 5 1 9 \n"
          ]
        }
      ]
    },
    {
      "cell_type": "code",
      "metadata": {
        "colab": {
          "base_uri": "https://localhost:8080/"
        },
        "id": "mLm0Meg7cney",
        "outputId": "5eb402e3-55dc-408b-deae-b4767d23fbc7"
      },
      "source": [
        "print(outmatrix)"
      ],
      "execution_count": 89,
      "outputs": [
        {
          "output_type": "stream",
          "name": "stdout",
          "text": [
            "[[2 3 1 7 4 0 8 5 6]\n",
            " [0 8 6 5 2 1 3 4 7]\n",
            " [4 5 7 6 3 8 1 0 2]\n",
            " [1 4 3 8 0 2 6 7 5]\n",
            " [7 0 8 4 5 6 2 3 1]\n",
            " [6 2 5 1 7 3 0 8 4]\n",
            " [5 1 0 2 8 7 4 6 3]\n",
            " [3 6 4 0 1 5 7 2 8]\n",
            " [8 7 2 3 6 4 5 1 0]]\n"
          ]
        }
      ]
    },
    {
      "cell_type": "code",
      "metadata": {
        "colab": {
          "base_uri": "https://localhost:8080/"
        },
        "id": "5LBa_L9BcnkW",
        "outputId": "0212f65d-965e-434a-9766-5b84fea349ff"
      },
      "source": [
        "grid"
      ],
      "execution_count": 90,
      "outputs": [
        {
          "output_type": "execute_result",
          "data": {
            "text/plain": [
              "[[2, 3, 1, 7, 4, 9, 8, 5, 6],\n",
              " [9, 8, 6, 5, 2, 1, 3, 4, 7],\n",
              " [4, 5, 7, 6, 3, 8, 1, 9, 2],\n",
              " [1, 4, 3, 8, 9, 2, 6, 7, 5],\n",
              " [7, 9, 8, 4, 5, 6, 2, 3, 1],\n",
              " [6, 2, 5, 1, 7, 3, 9, 8, 4],\n",
              " [5, 1, 9, 2, 8, 7, 4, 6, 3],\n",
              " [3, 6, 4, 9, 1, 5, 7, 2, 8],\n",
              " [8, 7, 2, 3, 6, 4, 5, 1, 9]]"
            ]
          },
          "metadata": {},
          "execution_count": 90
        }
      ]
    },
    {
      "cell_type": "code",
      "metadata": {
        "colab": {
          "base_uri": "https://localhost:8080/"
        },
        "id": "iKoJi5rdcnqR",
        "outputId": "d8666e77-871f-4666-9e75-fc2cdc69a928"
      },
      "source": [
        "np.sum(np.array(grid)==outmatrix)"
      ],
      "execution_count": 91,
      "outputs": [
        {
          "output_type": "execute_result",
          "data": {
            "text/plain": [
              "72"
            ]
          },
          "metadata": {},
          "execution_count": 91
        }
      ]
    },
    {
      "cell_type": "code",
      "metadata": {
        "colab": {
          "base_uri": "https://localhost:8080/"
        },
        "id": "zJHFS1Xqupwc",
        "outputId": "50db7de9-b0e6-4171-bbd7-ad091a3dffd1"
      },
      "source": [
        "np.sum(y_train[0].reshape(9,9) == np.array(grid))"
      ],
      "execution_count": 92,
      "outputs": [
        {
          "output_type": "execute_result",
          "data": {
            "text/plain": [
              "72"
            ]
          },
          "metadata": {},
          "execution_count": 92
        }
      ]
    },
    {
      "cell_type": "code",
      "metadata": {
        "colab": {
          "base_uri": "https://localhost:8080/"
        },
        "id": "A2_xBBaIu0LC",
        "outputId": "5aaa3550-492a-466c-d175-ac6bb830e97d"
      },
      "source": [
        "outmatrix == y_train[0].reshape(9,9)"
      ],
      "execution_count": 93,
      "outputs": [
        {
          "output_type": "execute_result",
          "data": {
            "text/plain": [
              "array([[ True,  True,  True,  True,  True,  True,  True,  True,  True],\n",
              "       [ True,  True,  True,  True,  True,  True,  True,  True,  True],\n",
              "       [ True,  True,  True,  True,  True,  True,  True,  True,  True],\n",
              "       [ True,  True,  True,  True,  True,  True,  True,  True,  True],\n",
              "       [ True,  True,  True,  True,  True,  True,  True,  True,  True],\n",
              "       [ True,  True,  True,  True,  True,  True,  True,  True,  True],\n",
              "       [ True,  True,  True,  True,  True,  True,  True,  True,  True],\n",
              "       [ True,  True,  True,  True,  True,  True,  True,  True,  True],\n",
              "       [ True,  True,  True,  True,  True,  True,  True,  True,  True]])"
            ]
          },
          "metadata": {},
          "execution_count": 93
        }
      ]
    },
    {
      "cell_type": "code",
      "metadata": {
        "colab": {
          "base_uri": "https://localhost:8080/"
        },
        "id": "PelOJOPAu6_V",
        "outputId": "95642faa-e1c2-4113-b1a3-e7202ed3bf67"
      },
      "source": [
        "y_train[0].reshape(9,9)"
      ],
      "execution_count": 94,
      "outputs": [
        {
          "output_type": "execute_result",
          "data": {
            "text/plain": [
              "array([[2, 3, 1, 7, 4, 0, 8, 5, 6],\n",
              "       [0, 8, 6, 5, 2, 1, 3, 4, 7],\n",
              "       [4, 5, 7, 6, 3, 8, 1, 0, 2],\n",
              "       [1, 4, 3, 8, 0, 2, 6, 7, 5],\n",
              "       [7, 0, 8, 4, 5, 6, 2, 3, 1],\n",
              "       [6, 2, 5, 1, 7, 3, 0, 8, 4],\n",
              "       [5, 1, 0, 2, 8, 7, 4, 6, 3],\n",
              "       [3, 6, 4, 0, 1, 5, 7, 2, 8],\n",
              "       [8, 7, 2, 3, 6, 4, 5, 1, 0]])"
            ]
          },
          "metadata": {},
          "execution_count": 94
        }
      ]
    },
    {
      "cell_type": "code",
      "metadata": {
        "id": "LjhOaot0u-03"
      },
      "source": [
        ""
      ],
      "execution_count": null,
      "outputs": []
    }
  ]
}